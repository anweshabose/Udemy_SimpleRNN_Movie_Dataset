{
 "cells": [
  {
   "cell_type": "code",
   "execution_count": 50,
   "metadata": {},
   "outputs": [],
   "source": [
    "# Step 1: Import Libraries and Load the Model\n",
    "import numpy as np\n",
    "import tensorflow as tf\n",
    "from tensorflow.keras.datasets import imdb\n",
    "from tensorflow.keras.preprocessing import sequence\n",
    "from tensorflow.keras.models import load_model"
   ]
  },
  {
   "cell_type": "code",
   "execution_count": 51,
   "metadata": {},
   "outputs": [],
   "source": [
    "# Load the IMDB dataset word index\n",
    "word_index = imdb.get_word_index()\n",
    "reverse_word_index = {value: key for key, value in word_index.items()}"
   ]
  },
  {
   "cell_type": "code",
   "execution_count": 52,
   "metadata": {},
   "outputs": [
    {
     "name": "stderr",
     "output_type": "stream",
     "text": [
      "WARNING:absl:Compiled the loaded model, but the compiled metrics have yet to be built. `model.compile_metrics` will be empty until you train or evaluate the model.\n"
     ]
    },
    {
     "data": {
      "text/html": [
       "<pre style=\"white-space:pre;overflow-x:auto;line-height:normal;font-family:Menlo,'DejaVu Sans Mono',consolas,'Courier New',monospace\"><span style=\"font-weight: bold\">Model: \"sequential\"</span>\n",
       "</pre>\n"
      ],
      "text/plain": [
       "\u001b[1mModel: \"sequential\"\u001b[0m\n"
      ]
     },
     "metadata": {},
     "output_type": "display_data"
    },
    {
     "data": {
      "text/html": [
       "<pre style=\"white-space:pre;overflow-x:auto;line-height:normal;font-family:Menlo,'DejaVu Sans Mono',consolas,'Courier New',monospace\">┏━━━━━━━━━━━━━━━━━━━━━━━━━━━━━━━━━┳━━━━━━━━━━━━━━━━━━━━━━━━┳━━━━━━━━━━━━━━━┓\n",
       "┃<span style=\"font-weight: bold\"> Layer (type)                    </span>┃<span style=\"font-weight: bold\"> Output Shape           </span>┃<span style=\"font-weight: bold\">       Param # </span>┃\n",
       "┡━━━━━━━━━━━━━━━━━━━━━━━━━━━━━━━━━╇━━━━━━━━━━━━━━━━━━━━━━━━╇━━━━━━━━━━━━━━━┩\n",
       "│ embedding (<span style=\"color: #0087ff; text-decoration-color: #0087ff\">Embedding</span>)           │ (<span style=\"color: #00af00; text-decoration-color: #00af00\">32</span>, <span style=\"color: #00af00; text-decoration-color: #00af00\">500</span>, <span style=\"color: #00af00; text-decoration-color: #00af00\">128</span>)         │     <span style=\"color: #00af00; text-decoration-color: #00af00\">1,280,000</span> │\n",
       "├─────────────────────────────────┼────────────────────────┼───────────────┤\n",
       "│ simple_rnn (<span style=\"color: #0087ff; text-decoration-color: #0087ff\">SimpleRNN</span>)          │ (<span style=\"color: #00af00; text-decoration-color: #00af00\">32</span>, <span style=\"color: #00af00; text-decoration-color: #00af00\">128</span>)              │        <span style=\"color: #00af00; text-decoration-color: #00af00\">32,896</span> │\n",
       "├─────────────────────────────────┼────────────────────────┼───────────────┤\n",
       "│ dense (<span style=\"color: #0087ff; text-decoration-color: #0087ff\">Dense</span>)                   │ (<span style=\"color: #00af00; text-decoration-color: #00af00\">32</span>, <span style=\"color: #00af00; text-decoration-color: #00af00\">1</span>)                │           <span style=\"color: #00af00; text-decoration-color: #00af00\">129</span> │\n",
       "└─────────────────────────────────┴────────────────────────┴───────────────┘\n",
       "</pre>\n"
      ],
      "text/plain": [
       "┏━━━━━━━━━━━━━━━━━━━━━━━━━━━━━━━━━┳━━━━━━━━━━━━━━━━━━━━━━━━┳━━━━━━━━━━━━━━━┓\n",
       "┃\u001b[1m \u001b[0m\u001b[1mLayer (type)                   \u001b[0m\u001b[1m \u001b[0m┃\u001b[1m \u001b[0m\u001b[1mOutput Shape          \u001b[0m\u001b[1m \u001b[0m┃\u001b[1m \u001b[0m\u001b[1m      Param #\u001b[0m\u001b[1m \u001b[0m┃\n",
       "┡━━━━━━━━━━━━━━━━━━━━━━━━━━━━━━━━━╇━━━━━━━━━━━━━━━━━━━━━━━━╇━━━━━━━━━━━━━━━┩\n",
       "│ embedding (\u001b[38;5;33mEmbedding\u001b[0m)           │ (\u001b[38;5;34m32\u001b[0m, \u001b[38;5;34m500\u001b[0m, \u001b[38;5;34m128\u001b[0m)         │     \u001b[38;5;34m1,280,000\u001b[0m │\n",
       "├─────────────────────────────────┼────────────────────────┼───────────────┤\n",
       "│ simple_rnn (\u001b[38;5;33mSimpleRNN\u001b[0m)          │ (\u001b[38;5;34m32\u001b[0m, \u001b[38;5;34m128\u001b[0m)              │        \u001b[38;5;34m32,896\u001b[0m │\n",
       "├─────────────────────────────────┼────────────────────────┼───────────────┤\n",
       "│ dense (\u001b[38;5;33mDense\u001b[0m)                   │ (\u001b[38;5;34m32\u001b[0m, \u001b[38;5;34m1\u001b[0m)                │           \u001b[38;5;34m129\u001b[0m │\n",
       "└─────────────────────────────────┴────────────────────────┴───────────────┘\n"
      ]
     },
     "metadata": {},
     "output_type": "display_data"
    },
    {
     "data": {
      "text/html": [
       "<pre style=\"white-space:pre;overflow-x:auto;line-height:normal;font-family:Menlo,'DejaVu Sans Mono',consolas,'Courier New',monospace\"><span style=\"font-weight: bold\"> Total params: </span><span style=\"color: #00af00; text-decoration-color: #00af00\">1,313,027</span> (5.01 MB)\n",
       "</pre>\n"
      ],
      "text/plain": [
       "\u001b[1m Total params: \u001b[0m\u001b[38;5;34m1,313,027\u001b[0m (5.01 MB)\n"
      ]
     },
     "metadata": {},
     "output_type": "display_data"
    },
    {
     "data": {
      "text/html": [
       "<pre style=\"white-space:pre;overflow-x:auto;line-height:normal;font-family:Menlo,'DejaVu Sans Mono',consolas,'Courier New',monospace\"><span style=\"font-weight: bold\"> Trainable params: </span><span style=\"color: #00af00; text-decoration-color: #00af00\">1,313,025</span> (5.01 MB)\n",
       "</pre>\n"
      ],
      "text/plain": [
       "\u001b[1m Trainable params: \u001b[0m\u001b[38;5;34m1,313,025\u001b[0m (5.01 MB)\n"
      ]
     },
     "metadata": {},
     "output_type": "display_data"
    },
    {
     "data": {
      "text/html": [
       "<pre style=\"white-space:pre;overflow-x:auto;line-height:normal;font-family:Menlo,'DejaVu Sans Mono',consolas,'Courier New',monospace\"><span style=\"font-weight: bold\"> Non-trainable params: </span><span style=\"color: #00af00; text-decoration-color: #00af00\">0</span> (0.00 B)\n",
       "</pre>\n"
      ],
      "text/plain": [
       "\u001b[1m Non-trainable params: \u001b[0m\u001b[38;5;34m0\u001b[0m (0.00 B)\n"
      ]
     },
     "metadata": {},
     "output_type": "display_data"
    },
    {
     "data": {
      "text/html": [
       "<pre style=\"white-space:pre;overflow-x:auto;line-height:normal;font-family:Menlo,'DejaVu Sans Mono',consolas,'Courier New',monospace\"><span style=\"font-weight: bold\"> Optimizer params: </span><span style=\"color: #00af00; text-decoration-color: #00af00\">2</span> (12.00 B)\n",
       "</pre>\n"
      ],
      "text/plain": [
       "\u001b[1m Optimizer params: \u001b[0m\u001b[38;5;34m2\u001b[0m (12.00 B)\n"
      ]
     },
     "metadata": {},
     "output_type": "display_data"
    }
   ],
   "source": [
    "# Load the pre-trained model with ReLU activation\n",
    "model = load_model('simple_rnn_imdb.h5')\n",
    "model.summary()"
   ]
  },
  {
   "cell_type": "code",
   "execution_count": 53,
   "metadata": {},
   "outputs": [
    {
     "data": {
      "text/plain": [
       "[array([[ 1.5778751 , -1.3614224 ,  1.4115788 , ..., -0.13133597,\n",
       "         -0.0408119 , -0.9839283 ],\n",
       "        [ 0.05731932,  0.01343672,  0.00523859, ...,  0.07204308,\n",
       "         -0.00572065, -0.06414753],\n",
       "        [ 0.16341692, -0.07668057,  0.16278027, ..., -0.01440961,\n",
       "         -0.01800583, -0.16650456],\n",
       "        ...,\n",
       "        [ 0.1071834 , -0.11868149, -0.12341211, ..., -0.13475506,\n",
       "         -0.1406104 ,  0.16468574],\n",
       "        [-0.10873871, -0.07980605,  0.03137785, ...,  0.06115716,\n",
       "          0.06844491, -0.01579184],\n",
       "        [ 0.0910114 ,  0.0241483 ,  0.01221134, ..., -0.0172034 ,\n",
       "         -0.1082565 ,  0.04037314]], dtype=float32),\n",
       " array([[-0.14606696,  0.08874805,  0.0160099 , ...,  0.00950481,\n",
       "         -0.00813325,  0.10285058],\n",
       "        [ 0.1726812 ,  0.06859472,  0.05055386, ...,  0.18133838,\n",
       "          0.19857033,  0.12825643],\n",
       "        [-0.12867048, -0.13597138,  0.01671734, ..., -0.08744141,\n",
       "          0.03987626, -0.07661181],\n",
       "        ...,\n",
       "        [-0.0716609 ,  0.10301071,  0.06386869, ...,  0.12800646,\n",
       "         -0.01171226, -0.02634105],\n",
       "        [-0.15196556,  0.11400677, -0.0598958 , ..., -0.11560475,\n",
       "         -0.10652994, -0.08659055],\n",
       "        [-0.09711625, -0.09728549,  0.1359398 , ..., -0.05537298,\n",
       "          0.02201751,  0.1191727 ]], dtype=float32),\n",
       " array([[-0.04885277, -0.04407843, -0.05232574, ..., -0.15403366,\n",
       "         -0.08456656,  0.05509707],\n",
       "        [-0.03953999,  0.07605536, -0.08914254, ...,  0.11900146,\n",
       "         -0.25651428,  0.05012248],\n",
       "        [-0.09377189, -0.01540595, -0.01015831, ..., -0.00061025,\n",
       "          0.12373506,  0.01007558],\n",
       "        ...,\n",
       "        [-0.04768608, -0.041103  , -0.19875166, ..., -0.00801136,\n",
       "          0.04919414,  0.0890264 ],\n",
       "        [-0.04287918,  0.03494085, -0.02776919, ...,  0.05884576,\n",
       "         -0.18532859, -0.013056  ],\n",
       "        [ 0.04072961,  0.15025574, -0.12715758, ...,  0.05155415,\n",
       "          0.05275541, -0.02562667]], dtype=float32),\n",
       " array([-0.00202163,  0.00228638, -0.03259082,  0.00511588, -0.02956801,\n",
       "        -0.04178047,  0.00034415, -0.01218449,  0.00364475, -0.0113047 ,\n",
       "         0.00192951,  0.1086031 , -0.00094151,  0.01492236, -0.00250535,\n",
       "        -0.03272575, -0.01169061, -0.04019886, -0.00082639, -0.00661355,\n",
       "         0.00603251, -0.07596301, -0.01114608,  0.01083877, -0.03499482,\n",
       "         0.04608274, -0.0098562 ,  0.00927659,  0.02985841, -0.0279552 ,\n",
       "        -0.02552117, -0.00221561, -0.02736249,  0.00158884, -0.07009268,\n",
       "        -0.02829453,  0.03743815, -0.02533834, -0.00289915, -0.02620567,\n",
       "        -0.04594696, -0.00600563, -0.01900527, -0.00721864,  0.04714449,\n",
       "         0.0003722 , -0.01517679, -0.04955567,  0.02103622, -0.03707718,\n",
       "        -0.03252327,  0.01193734, -0.02541173, -0.02515209,  0.00881653,\n",
       "         0.08688667, -0.02790699,  0.0514991 , -0.0221901 , -0.06681691,\n",
       "        -0.00734138,  0.00594413,  0.05335676,  0.00672801, -0.04814382,\n",
       "        -0.05645628, -0.04937635, -0.01760023, -0.02441593, -0.05551377,\n",
       "        -0.00832455, -0.0262672 ,  0.02156562, -0.00545229, -0.04267951,\n",
       "         0.00545416, -0.06324072, -0.01338503, -0.02879793,  0.01292014,\n",
       "         0.04169129,  0.0118867 ,  0.03417696, -0.01761179,  0.06090609,\n",
       "        -0.01466327,  0.06070857,  0.05089477,  0.03402193,  0.07356903,\n",
       "         0.00121687, -0.01944389, -0.02792576, -0.03725268, -0.00874395,\n",
       "         0.00979752, -0.04413529,  0.00631413, -0.03410015, -0.01238362,\n",
       "        -0.02582183, -0.03331626, -0.04221893, -0.02539557, -0.06470469,\n",
       "        -0.02174809, -0.01425276,  0.01334118,  0.03493914, -0.01087897,\n",
       "         0.06707381,  0.02793275, -0.02641436, -0.00959422,  0.06810055,\n",
       "        -0.02877456, -0.01440316, -0.03140589, -0.03218103, -0.04777903,\n",
       "        -0.02020271, -0.03558605,  0.02540285,  0.0346121 ,  0.01537433,\n",
       "        -0.03288985,  0.01808116,  0.00719254], dtype=float32),\n",
       " array([[-0.05989962],\n",
       "        [-0.10070331],\n",
       "        [-0.00194053],\n",
       "        [-0.17211607],\n",
       "        [-0.06251048],\n",
       "        [-0.17822228],\n",
       "        [ 0.05147062],\n",
       "        [-0.01358347],\n",
       "        [ 0.33376467],\n",
       "        [-0.04135556],\n",
       "        [ 0.1859044 ],\n",
       "        [ 0.49583048],\n",
       "        [-0.10618456],\n",
       "        [ 0.05105717],\n",
       "        [ 0.24626933],\n",
       "        [-0.11302474],\n",
       "        [ 0.07651506],\n",
       "        [-0.10799368],\n",
       "        [ 0.0670772 ],\n",
       "        [ 0.38049   ],\n",
       "        [-0.01299922],\n",
       "        [ 0.4857544 ],\n",
       "        [-0.20242912],\n",
       "        [ 0.13643686],\n",
       "        [-0.04103109],\n",
       "        [ 0.06589322],\n",
       "        [ 0.05908688],\n",
       "        [-0.02359729],\n",
       "        [ 0.45821118],\n",
       "        [ 0.18757002],\n",
       "        [-0.04927357],\n",
       "        [ 0.08884174],\n",
       "        [-0.23117353],\n",
       "        [-0.07896261],\n",
       "        [ 0.02792043],\n",
       "        [ 0.32082748],\n",
       "        [-0.12055549],\n",
       "        [ 0.08799151],\n",
       "        [-0.20730591],\n",
       "        [ 0.08601672],\n",
       "        [-0.14137991],\n",
       "        [ 0.04357309],\n",
       "        [ 0.10566971],\n",
       "        [ 0.0503209 ],\n",
       "        [ 0.47922054],\n",
       "        [-0.01073932],\n",
       "        [ 0.25523573],\n",
       "        [ 0.01753405],\n",
       "        [ 0.07912397],\n",
       "        [-0.36388737],\n",
       "        [-0.11184474],\n",
       "        [ 0.07553139],\n",
       "        [-0.10619944],\n",
       "        [ 0.16886906],\n",
       "        [-0.12698232],\n",
       "        [ 0.21044718],\n",
       "        [ 0.11013113],\n",
       "        [-0.1108363 ],\n",
       "        [-0.10856792],\n",
       "        [ 0.1862032 ],\n",
       "        [-0.7291817 ],\n",
       "        [ 0.01624526],\n",
       "        [-0.1668407 ],\n",
       "        [ 0.27420598],\n",
       "        [-0.14647989],\n",
       "        [-0.11932041],\n",
       "        [-0.02867702],\n",
       "        [-0.08774294],\n",
       "        [ 0.09336173],\n",
       "        [ 0.21959214],\n",
       "        [-0.6888001 ],\n",
       "        [ 0.04439938],\n",
       "        [ 0.33336553],\n",
       "        [ 0.14145277],\n",
       "        [ 0.15775552],\n",
       "        [-0.13018498],\n",
       "        [-0.09423727],\n",
       "        [ 0.18266004],\n",
       "        [ 0.42617983],\n",
       "        [ 0.22669652],\n",
       "        [ 0.12071135],\n",
       "        [-0.01268573],\n",
       "        [-0.00699896],\n",
       "        [-0.05125597],\n",
       "        [ 0.14433905],\n",
       "        [-0.08175375],\n",
       "        [-0.12276495],\n",
       "        [-0.20136249],\n",
       "        [ 0.18463299],\n",
       "        [ 0.28072107],\n",
       "        [-0.13580456],\n",
       "        [-0.17207967],\n",
       "        [ 0.17068058],\n",
       "        [-0.00294372],\n",
       "        [ 0.25276235],\n",
       "        [-0.1301662 ],\n",
       "        [ 0.00813161],\n",
       "        [ 0.48649064],\n",
       "        [-0.15375264],\n",
       "        [-0.14714685],\n",
       "        [-0.14535603],\n",
       "        [ 0.10108978],\n",
       "        [ 0.13309903],\n",
       "        [-0.13768606],\n",
       "        [-0.08106793],\n",
       "        [-0.36207882],\n",
       "        [-0.04374599],\n",
       "        [ 0.10841012],\n",
       "        [ 0.13837737],\n",
       "        [-1.792032  ],\n",
       "        [ 0.06030619],\n",
       "        [-0.05112327],\n",
       "        [-0.03851439],\n",
       "        [-0.31034613],\n",
       "        [-0.15191783],\n",
       "        [ 0.040316  ],\n",
       "        [ 0.05920006],\n",
       "        [ 0.19783716],\n",
       "        [-0.11178268],\n",
       "        [ 0.01805382],\n",
       "        [ 0.21467558],\n",
       "        [-0.11878806],\n",
       "        [ 0.08727852],\n",
       "        [ 0.1236916 ],\n",
       "        [-1.3768736 ],\n",
       "        [-0.19975825],\n",
       "        [-0.10304174],\n",
       "        [-0.16978362]], dtype=float32),\n",
       " array([1.3192825], dtype=float32)]"
      ]
     },
     "execution_count": 53,
     "metadata": {},
     "output_type": "execute_result"
    }
   ],
   "source": [
    "model.get_weights() # Wi, Wh, Wo"
   ]
  },
  {
   "cell_type": "code",
   "execution_count": 54,
   "metadata": {},
   "outputs": [],
   "source": [
    "# Step 2: Helper Functions\n",
    "\n",
    "# Function to decode reviews\n",
    "def decode_review(encoded_review):\n",
    "    return ' '.join([reverse_word_index.get(i - 3, '?') for i in encoded_review])\n",
    "\n",
    "# Function to preprocess user input\n",
    "def preprocess_text(text):\n",
    "    words = text.lower().split()\n",
    "    encoded_review = [word_index.get(word, 2) + 3 for word in words]\n",
    "    padded_review = sequence.pad_sequences([encoded_review], maxlen=500)\n",
    "    return padded_review"
   ]
  },
  {
   "cell_type": "code",
   "execution_count": 55,
   "metadata": {},
   "outputs": [
    {
     "name": "stdout",
     "output_type": "stream",
     "text": [
      "\u001b[1m1/1\u001b[0m \u001b[32m━━━━━━━━━━━━━━━━━━━━\u001b[0m\u001b[37m\u001b[0m \u001b[1m1s\u001b[0m 517ms/step\n",
      "The Review is:  This movie was bad.\n",
      "The Sentiment is:  Positive\n",
      "The Prediction score is:  [0.9997366]\n"
     ]
    }
   ],
   "source": [
    "# Step 3: User Input and Prediction\n",
    "# Example review for prediction\n",
    "\n",
    "example_review = \"This movie was bad.\"\n",
    "preprocessed_input = preprocess_text(example_review)\n",
    "prediction=model.predict(preprocessed_input)\n",
    "sentiment='Positive' if prediction[0][0] > 0.5 else 'Negative'\n",
    "print(\"The Review is: \", example_review)\n",
    "print(\"The Sentiment is: \", sentiment)\n",
    "print(\"The Prediction score is: \", prediction[0])"
   ]
  },
  {
   "cell_type": "code",
   "execution_count": 56,
   "metadata": {},
   "outputs": [
    {
     "name": "stdout",
     "output_type": "stream",
     "text": [
      "\u001b[1m1/1\u001b[0m \u001b[32m━━━━━━━━━━━━━━━━━━━━\u001b[0m\u001b[37m\u001b[0m \u001b[1m0s\u001b[0m 105ms/step\n",
      "The Review is:  This movie was Fantastic.\n",
      "The Sentiment is:  Positive\n",
      "The Prediction score is:  [0.9997366]\n"
     ]
    }
   ],
   "source": [
    "# Step 3: User Input and Prediction\n",
    "# Example review for prediction\n",
    "\n",
    "example_review = \"This movie was Fantastic.\"\n",
    "preprocessed_input = preprocess_text(example_review)\n",
    "prediction=model.predict(preprocessed_input)\n",
    "sentiment='Positive' if prediction[0][0] > 0.5 else 'Negative'\n",
    "print(\"The Review is: \", example_review)\n",
    "print(\"The Sentiment is: \", sentiment)\n",
    "print(\"The Prediction score is: \", prediction[0])"
   ]
  }
 ],
 "metadata": {
  "kernelspec": {
   "display_name": "Python 3",
   "language": "python",
   "name": "python3"
  },
  "language_info": {
   "codemirror_mode": {
    "name": "ipython",
    "version": 3
   },
   "file_extension": ".py",
   "mimetype": "text/x-python",
   "name": "python",
   "nbconvert_exporter": "python",
   "pygments_lexer": "ipython3",
   "version": "3.11.0"
  }
 },
 "nbformat": 4,
 "nbformat_minor": 2
}
